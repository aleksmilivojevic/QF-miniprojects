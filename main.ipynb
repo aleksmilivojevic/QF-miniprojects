{
 "cells": [
  {
   "cell_type": "markdown",
   "id": "5a1f5eb4",
   "metadata": {},
   "source": [
    "Project 1: Use current stock data to create two potentially profitable investment portfolios. One that is higher risk and one that is lower risk."
   ]
  }
 ],
 "metadata": {
  "language_info": {
   "name": "python"
  }
 },
 "nbformat": 4,
 "nbformat_minor": 5
}
